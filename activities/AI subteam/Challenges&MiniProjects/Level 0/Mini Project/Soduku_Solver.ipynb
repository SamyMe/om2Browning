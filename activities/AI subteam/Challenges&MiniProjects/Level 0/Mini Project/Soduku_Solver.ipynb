{
 "cells": [
  {
   "cell_type": "markdown",
   "metadata": {},
   "source": [
    "## Mini project for level 0 members of the AI subteam\n",
    "### Crearing a Sudoku Solver using a dumb AI\n",
    "In this project you will have to program a dumb AI model using search algorithms "
   ]
  },
  {
   "cell_type": "markdown",
   "metadata": {},
   "source": [
    "#### Creating a random soduku board\n",
    "this is code I made to generate a random soduku board so you can test your AI on it you don't have to worry about the code"
   ]
  },
  {
   "cell_type": "code",
   "execution_count": 11,
   "metadata": {},
   "outputs": [],
   "source": [
    "base  = 3\n",
    "side  = base*base"
   ]
  },
  {
   "cell_type": "code",
   "execution_count": 12,
   "metadata": {},
   "outputs": [],
   "source": [
    "def pattern(r,c): return (base*(r%base)+r//base+c)%side\n",
    "\n",
    "from random import sample\n",
    "def shuffle(s): return sample(s,len(s)) \n",
    "rBase = range(base) \n",
    "rows  = [ g*base + r for g in shuffle(rBase) for r in shuffle(rBase) ] \n",
    "cols  = [ g*base + c for g in shuffle(rBase) for c in shuffle(rBase) ]\n",
    "nums  = shuffle(range(1,base*base+1))\n",
    "\n",
    "board = [ [nums[pattern(r,c)] for c in cols] for r in rows ]"
   ]
  },
  {
   "cell_type": "code",
   "execution_count": 13,
   "metadata": {},
   "outputs": [],
   "source": [
    "squares = side*side\n",
    "empties = squares * 3//4\n",
    "for p in sample(range(squares),empties):\n",
    "    board[p//side][p%side] = 0\n"
   ]
  },
  {
   "cell_type": "code",
   "execution_count": 14,
   "metadata": {},
   "outputs": [
    {
     "name": "stdout",
     "output_type": "stream",
     "text": [
      "╔═══╤═══╤═══╦═══╤═══╤═══╦═══╤═══╤═══╗\n",
      "║ 4 │ 2 │   ║   │ 6 │ 8 ║   │   │   ║\n",
      "╟───┼───┼───╫───┼───┼───╫───┼───┼───╢\n",
      "║   │   │   ║   │ 5 │   ║   │   │   ║\n",
      "╟───┼───┼───╫───┼───┼───╫───┼───┼───╢\n",
      "║   │   │   ║   │ 4 │   ║ 8 │   │   ║\n",
      "╠═══╪═══╪═══╬═══╪═══╪═══╬═══╪═══╪═══╣\n",
      "║ 9 │   │   ║   │   │   ║   │ 6 │ 8 ║\n",
      "╟───┼───┼───╫───┼───┼───╫───┼───┼───╢\n",
      "║   │ 4 │   ║   │   │   ║ 3 │   │   ║\n",
      "╟───┼───┼───╫───┼───┼───╫───┼───┼───╢\n",
      "║   │   │   ║   │   │   ║ 7 │ 4 │   ║\n",
      "╠═══╪═══╪═══╬═══╪═══╪═══╬═══╪═══╪═══╣\n",
      "║ 7 │ 1 │ 5 ║   │   │   ║ 6 │   │   ║\n",
      "╟───┼───┼───╫───┼───┼───╫───┼───┼───╢\n",
      "║   │   │   ║   │   │   ║   │   │   ║\n",
      "╟───┼───┼───╫───┼───┼───╫───┼───┼───╢\n",
      "║   │   │   ║ 1 │   │   ║ 4 │   │ 2 ║\n",
      "╚═══╧═══╧═══╩═══╧═══╧═══╩═══╧═══╧═══╝\n"
     ]
    }
   ],
   "source": [
    "def expandLine(line):\n",
    "    return line[0]+line[5:9].join([line[1:5]*(base-1)]*base)+line[9:13]\n",
    "line0  = expandLine(\"╔═══╤═══╦═══╗\")\n",
    "line1  = expandLine(\"║ . │ . ║ . ║\")\n",
    "line2  = expandLine(\"╟───┼───╫───╢\")\n",
    "line3  = expandLine(\"╠═══╪═══╬═══╣\")\n",
    "line4  = expandLine(\"╚═══╧═══╩═══╝\")\n",
    "\n",
    "symbol = \" 1234567890ABCDEFGHIJKLMNOPQRSTUVWXYZ\"\n",
    "nums   = [ [\"\"]+[symbol[n] for n in row] for row in board ]\n",
    "print(line0)\n",
    "for r in range(1,side+1):\n",
    "    print( \"\".join(n+s for n,s in zip(nums[r-1],line1.split(\".\"))) )\n",
    "    print([line2,line3,line4][(r%side==0)+(r%base==0)])"
   ]
  },
  {
   "cell_type": "markdown",
   "metadata": {},
   "source": [
    "#### Create your dumb AI \n",
    "You can start creating your dumb AI here using a search algorithm (DFS, BFS or A*) here are some ressources that can help you <br>\n",
    "https://medium.com/@george.seif94/solving-sudoku-using-a-simple-search-algorithm-3ac44857fee8 <br>\n",
    "https://medium.com/algorithms-and-leetcode/backtracking-e001561b9f28 <br>\n",
    "https://medium.com/omarelgabrys-blog/path-finding-algorithms-f65a8902eb40 <br>\n",
    "\n",
    "Tip : you can also try to use numpy to improve the speed of algorithms. You don't know what is numpy ? check the documentation right here : https://numpy.org/doc/ <br>\n",
    "\n",
    "Also if you are stuck don't hesitate to ask me or in to let a question in the server ;)"
   ]
  },
  {
   "cell_type": "code",
   "execution_count": null,
   "metadata": {},
   "outputs": [],
   "source": [
    "# a function that can help you if you implement it \n",
    "# its use is to return the next empty value of the board which can help for search algorithms\n",
    "def next_empty():"
   ]
  },
  {
   "cell_type": "code",
   "execution_count": null,
   "metadata": {},
   "outputs": [],
   "source": [
    "# a function that can help you if you implement it \n",
    "# its use is to check if you can put a number in a cell or if it is not possible \n",
    "def is_available():"
   ]
  },
  {
   "cell_type": "code",
   "execution_count": null,
   "metadata": {},
   "outputs": [],
   "source": [
    "# your dumb AI function\n",
    "def solve():\n",
    "\n",
    "#if you need other functions before starting this one don't hesitate to create new blocks of code"
   ]
  },
  {
   "cell_type": "markdown",
   "metadata": {},
   "source": [
    "#### Test your AI !!!!"
   ]
  },
  {
   "cell_type": "code",
   "execution_count": null,
   "metadata": {},
   "outputs": [],
   "source": [
    "#Execute your function here"
   ]
  },
  {
   "cell_type": "code",
   "execution_count": null,
   "metadata": {},
   "outputs": [],
   "source": [
    "print(line0)\n",
    "for r in range(1,side+1):\n",
    "    print( \"\".join(n+s for n,s in zip(nums[r-1],line1.split(\".\"))) )\n",
    "    print([line2,line3,line4][(r%side==0)+(r%base==0)])"
   ]
  },
  {
   "cell_type": "markdown",
   "metadata": {},
   "source": [
    "##### When you finish this project you will pass to level one !!! Which invole learning more interesting things like data analysis and visualisation check the #firet-step channel is discord to learn more about it  "
   ]
  }
 ],
 "metadata": {
  "interpreter": {
   "hash": "37e09d939d6e16656c0c2a357105e133e0c8f973b428cc5ab059ecd748b64042"
  },
  "kernelspec": {
   "display_name": "Python 3.8.6 64-bit (system)",
   "language": "python",
   "name": "python3"
  },
  "language_info": {
   "codemirror_mode": {
    "name": "ipython",
    "version": 3
   },
   "file_extension": ".py",
   "mimetype": "text/x-python",
   "name": "python",
   "nbconvert_exporter": "python",
   "pygments_lexer": "ipython3",
   "version": "3.8.6"
  },
  "orig_nbformat": 4
 },
 "nbformat": 4,
 "nbformat_minor": 2
}
